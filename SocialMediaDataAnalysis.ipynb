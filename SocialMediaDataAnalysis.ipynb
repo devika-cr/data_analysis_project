{
 "cells": [
  {
   "cell_type": "markdown",
   "metadata": {},
   "source": [
    "# Clean & Analyze Social Media"
   ]
  },
  {
   "cell_type": "markdown",
   "metadata": {},
   "source": [
    "## Introduction\n",
    "\n",
    "Social media has become a ubiquitous part of modern life, with platforms such as Instagram, Twitter, and Facebook serving as essential communication channels. Social media data sets are vast and complex, making analysis a challenging task for businesses and researchers alike. In this project, we explore a simulated social media, for example Tweets, data set to understand trends in likes across different categories.\n",
    "\n",
    "## Prerequisites\n",
    "\n",
    "To follow along with this project, you should have a basic understanding of Python programming and data analysis concepts. In addition, you may want to use the following packages in your Python environment:\n",
    "\n",
    "- pandas\n",
    "- Matplotlib\n",
    "- ...\n",
    "\n",
    "These packages should already be installed in Coursera's Jupyter Notebook environment, however if you'd like to install additional packages that are not included in this environment or are working off platform you can install additional packages using `!pip install packagename` within a notebook cell such as:\n",
    "\n",
    "- `!pip install pandas`\n",
    "- `!pip install matplotlib`\n",
    "\n",
    "## Project Scope\n",
    "\n",
    "The objective of this project is to analyze tweets (or other social media data) and gain insights into user engagement. We will explore the data set using visualization techniques to understand the distribution of likes across different categories. Finally, we will analyze the data to draw conclusions about the most popular categories and the overall engagement on the platform.\n",
    "\n",
    "## Step 1: Importing Required Libraries\n",
    "\n",
    "As the name suggests, the first step is to import all the necessary libraries that will be used in the project. In this case, we need pandas, numpy, matplotlib, seaborn, and random libraries.\n",
    "\n",
    "Pandas is a library used for data manipulation and analysis. Numpy is a library used for numerical computations. Matplotlib is a library used for data visualization. Seaborn is a library used for statistical data visualization. Random is a library used to generate random numbers."
   ]
  },
  {
   "cell_type": "code",
   "execution_count": 2,
   "metadata": {},
   "outputs": [],
   "source": [
    "# your code here"
   ]
  },
  {
   "cell_type": "code",
   "execution_count": 2,
   "metadata": {},
   "outputs": [
    {
     "name": "stdout",
     "output_type": "stream",
     "text": [
      "Requirement already satisfied: pandas in /opt/conda/lib/python3.7/site-packages (1.0.3)\n",
      "Requirement already satisfied: python-dateutil>=2.6.1 in /opt/conda/lib/python3.7/site-packages (from pandas) (2.8.1)\n",
      "Requirement already satisfied: pytz>=2017.2 in /opt/conda/lib/python3.7/site-packages (from pandas) (2020.1)\n",
      "Requirement already satisfied: numpy>=1.13.3 in /opt/conda/lib/python3.7/site-packages (from pandas) (1.18.4)\n",
      "Requirement already satisfied: six>=1.5 in /opt/conda/lib/python3.7/site-packages (from python-dateutil>=2.6.1->pandas) (1.14.0)\n",
      "\u001b[33mWARNING: You are using pip version 21.3.1; however, version 24.0 is available.\n",
      "You should consider upgrading via the '/opt/conda/bin/python -m pip install --upgrade pip' command.\u001b[0m\n",
      "Note: you may need to restart the kernel to use updated packages.\n"
     ]
    }
   ],
   "source": [
    "pip install pandas\n"
   ]
  },
  {
   "cell_type": "code",
   "execution_count": 3,
   "metadata": {},
   "outputs": [
    {
     "name": "stdout",
     "output_type": "stream",
     "text": [
      "Requirement already satisfied: matplotlib in /opt/conda/lib/python3.7/site-packages (3.2.1)\n",
      "Requirement already satisfied: cycler>=0.10 in /opt/conda/lib/python3.7/site-packages (from matplotlib) (0.10.0)\n",
      "Requirement already satisfied: pyparsing!=2.0.4,!=2.1.2,!=2.1.6,>=2.0.1 in /opt/conda/lib/python3.7/site-packages (from matplotlib) (2.4.7)\n",
      "Requirement already satisfied: kiwisolver>=1.0.1 in /opt/conda/lib/python3.7/site-packages (from matplotlib) (1.2.0)\n",
      "Requirement already satisfied: numpy>=1.11 in /opt/conda/lib/python3.7/site-packages (from matplotlib) (1.18.4)\n",
      "Requirement already satisfied: python-dateutil>=2.1 in /opt/conda/lib/python3.7/site-packages (from matplotlib) (2.8.1)\n",
      "Requirement already satisfied: six in /opt/conda/lib/python3.7/site-packages (from cycler>=0.10->matplotlib) (1.14.0)\n",
      "\u001b[33mWARNING: You are using pip version 21.3.1; however, version 24.0 is available.\n",
      "You should consider upgrading via the '/opt/conda/bin/python -m pip install --upgrade pip' command.\u001b[0m\n",
      "Note: you may need to restart the kernel to use updated packages.\n"
     ]
    }
   ],
   "source": [
    "pip install matplotlib\n"
   ]
  },
  {
   "cell_type": "code",
   "execution_count": 2,
   "metadata": {},
   "outputs": [
    {
     "name": "stdout",
     "output_type": "stream",
     "text": [
      "Requirement already satisfied: numpy in /opt/conda/lib/python3.7/site-packages (1.18.4)\n",
      "\u001b[33mWARNING: You are using pip version 21.3.1; however, version 24.0 is available.\n",
      "You should consider upgrading via the '/opt/conda/bin/python -m pip install --upgrade pip' command.\u001b[0m\n",
      "Note: you may need to restart the kernel to use updated packages.\n"
     ]
    }
   ],
   "source": [
    "pip install numpy"
   ]
  },
  {
   "cell_type": "code",
   "execution_count": 4,
   "metadata": {},
   "outputs": [
    {
     "name": "stdout",
     "output_type": "stream",
     "text": [
      "Requirement already satisfied: seaborn in /opt/conda/lib/python3.7/site-packages (0.10.1)\n",
      "Requirement already satisfied: matplotlib>=2.1.2 in /opt/conda/lib/python3.7/site-packages (from seaborn) (3.2.1)\n",
      "Requirement already satisfied: scipy>=1.0.1 in /opt/conda/lib/python3.7/site-packages (from seaborn) (1.4.1)\n",
      "Requirement already satisfied: numpy>=1.13.3 in /opt/conda/lib/python3.7/site-packages (from seaborn) (1.18.4)\n",
      "Requirement already satisfied: pandas>=0.22.0 in /opt/conda/lib/python3.7/site-packages (from seaborn) (1.0.3)\n",
      "Requirement already satisfied: python-dateutil>=2.1 in /opt/conda/lib/python3.7/site-packages (from matplotlib>=2.1.2->seaborn) (2.8.1)\n",
      "Requirement already satisfied: cycler>=0.10 in /opt/conda/lib/python3.7/site-packages (from matplotlib>=2.1.2->seaborn) (0.10.0)\n",
      "Requirement already satisfied: pyparsing!=2.0.4,!=2.1.2,!=2.1.6,>=2.0.1 in /opt/conda/lib/python3.7/site-packages (from matplotlib>=2.1.2->seaborn) (2.4.7)\n",
      "Requirement already satisfied: kiwisolver>=1.0.1 in /opt/conda/lib/python3.7/site-packages (from matplotlib>=2.1.2->seaborn) (1.2.0)\n",
      "Requirement already satisfied: pytz>=2017.2 in /opt/conda/lib/python3.7/site-packages (from pandas>=0.22.0->seaborn) (2020.1)\n",
      "Requirement already satisfied: six in /opt/conda/lib/python3.7/site-packages (from cycler>=0.10->matplotlib>=2.1.2->seaborn) (1.14.0)\n",
      "\u001b[33mWARNING: You are using pip version 21.3.1; however, version 24.0 is available.\n",
      "You should consider upgrading via the '/opt/conda/bin/python -m pip install --upgrade pip' command.\u001b[0m\n",
      "Note: you may need to restart the kernel to use updated packages.\n"
     ]
    }
   ],
   "source": [
    "pip install seaborn"
   ]
  },
  {
   "cell_type": "code",
   "execution_count": 5,
   "metadata": {},
   "outputs": [],
   "source": [
    "import pandas as pd\n",
    "import random\n",
    "import numpy as np"
   ]
  },
  {
   "cell_type": "code",
   "execution_count": 6,
   "metadata": {},
   "outputs": [
    {
     "name": "stdout",
     "output_type": "stream",
     "text": [
      "{'Date': DatetimeIndex(['2021-01-01', '2021-01-02', '2021-01-03', '2021-01-04',\n",
      "               '2021-01-05', '2021-01-06', '2021-01-07', '2021-01-08',\n",
      "               '2021-01-09', '2021-01-10',\n",
      "               ...\n",
      "               '2022-05-06', '2022-05-07', '2022-05-08', '2022-05-09',\n",
      "               '2022-05-10', '2022-05-11', '2022-05-12', '2022-05-13',\n",
      "               '2022-05-14', '2022-05-15'],\n",
      "              dtype='datetime64[ns]', length=500, freq='D'), 'Category': ['music', 'travel', 'fashion', 'fashion', 'food', 'music', 'food', 'food', 'music', 'fitness', 'food', 'food', 'travel', 'fitness', 'culture', 'food', 'fashion', 'fashion', 'food', 'food', 'fitness', 'fashion', 'fitness', 'music', 'food', 'travel', 'travel', 'music', 'travel', 'culture', 'fashion', 'food', 'travel', 'food', 'fashion', 'fashion', 'food', 'travel', 'fitness', 'culture', 'travel', 'fitness', 'travel', 'fashion', 'food', 'culture', 'culture', 'culture', 'travel', 'travel', 'fitness', 'culture', 'fitness', 'food', 'fashion', 'food', 'travel', 'fitness', 'culture', 'travel', 'culture', 'culture', 'travel', 'travel', 'fashion', 'music', 'travel', 'travel', 'fitness', 'music', 'music', 'culture', 'culture', 'travel', 'fitness', 'music', 'travel', 'music', 'travel', 'fitness', 'travel', 'music', 'fitness', 'food', 'food', 'travel', 'fitness', 'fitness', 'culture', 'fitness', 'music', 'culture', 'food', 'travel', 'fitness', 'fashion', 'travel', 'culture', 'fashion', 'food', 'fashion', 'culture', 'food', 'travel', 'food', 'fashion', 'music', 'travel', 'music', 'music', 'culture', 'fashion', 'fashion', 'music', 'fitness', 'travel', 'food', 'culture', 'music', 'fitness', 'music', 'food', 'food', 'music', 'fitness', 'fashion', 'travel', 'travel', 'food', 'culture', 'music', 'travel', 'travel', 'culture', 'culture', 'fitness', 'fashion', 'culture', 'fashion', 'food', 'fitness', 'food', 'food', 'culture', 'music', 'fashion', 'fitness', 'travel', 'fashion', 'fashion', 'culture', 'culture', 'travel', 'fitness', 'fitness', 'food', 'food', 'fitness', 'culture', 'fashion', 'fitness', 'travel', 'travel', 'music', 'food', 'fashion', 'music', 'fashion', 'travel', 'travel', 'culture', 'travel', 'music', 'music', 'fashion', 'fitness', 'music', 'culture', 'travel', 'music', 'food', 'music', 'food', 'travel', 'music', 'music', 'music', 'food', 'food', 'fitness', 'food', 'food', 'food', 'fashion', 'travel', 'culture', 'music', 'culture', 'music', 'music', 'travel', 'fitness', 'food', 'fitness', 'food', 'food', 'fashion', 'travel', 'travel', 'music', 'music', 'fitness', 'music', 'fashion', 'travel', 'music', 'food', 'culture', 'food', 'food', 'travel', 'culture', 'food', 'culture', 'culture', 'travel', 'fitness', 'culture', 'music', 'culture', 'fashion', 'fashion', 'fitness', 'food', 'music', 'culture', 'fitness', 'music', 'fashion', 'music', 'food', 'fashion', 'travel', 'culture', 'fashion', 'fitness', 'fitness', 'food', 'culture', 'fitness', 'culture', 'fitness', 'culture', 'culture', 'travel', 'travel', 'travel', 'fitness', 'culture', 'food', 'music', 'food', 'fitness', 'fitness', 'culture', 'culture', 'culture', 'fashion', 'travel', 'travel', 'music', 'culture', 'fashion', 'travel', 'music', 'food', 'culture', 'culture', 'food', 'food', 'music', 'music', 'culture', 'culture', 'travel', 'culture', 'food', 'fashion', 'culture', 'fitness', 'travel', 'travel', 'fashion', 'fashion', 'fitness', 'food', 'fitness', 'music', 'fashion', 'music', 'music', 'fitness', 'fitness', 'culture', 'fashion', 'fitness', 'culture', 'food', 'fashion', 'music', 'travel', 'fashion', 'culture', 'food', 'music', 'music', 'food', 'culture', 'food', 'culture', 'fashion', 'music', 'travel', 'culture', 'music', 'music', 'music', 'fashion', 'fitness', 'fashion', 'travel', 'music', 'travel', 'music', 'music', 'food', 'fitness', 'food', 'food', 'travel', 'food', 'music', 'fitness', 'fitness', 'travel', 'travel', 'music', 'culture', 'travel', 'travel', 'food', 'food', 'fashion', 'fitness', 'culture', 'fitness', 'fashion', 'fashion', 'fashion', 'music', 'fitness', 'music', 'food', 'food', 'fitness', 'food', 'fitness', 'fashion', 'fitness', 'food', 'food', 'food', 'music', 'fashion', 'food', 'music', 'fitness', 'music', 'fitness', 'food', 'culture', 'fitness', 'fitness', 'fashion', 'music', 'fitness', 'food', 'fitness', 'fitness', 'fashion', 'fitness', 'fashion', 'travel', 'fashion', 'culture', 'culture', 'culture', 'fitness', 'music', 'fashion', 'fitness', 'travel', 'music', 'fitness', 'fashion', 'culture', 'music', 'travel', 'food', 'fashion', 'food', 'food', 'fitness', 'fitness', 'fashion', 'travel', 'food', 'food', 'fitness', 'travel', 'fashion', 'travel', 'travel', 'food', 'music', 'fitness', 'fitness', 'travel', 'fitness', 'music', 'food', 'fitness', 'fitness', 'culture', 'music', 'fitness', 'fashion', 'travel', 'fashion', 'fashion', 'fashion', 'culture', 'culture', 'food', 'food', 'fitness', 'food', 'fitness', 'music', 'music', 'fitness', 'culture', 'food', 'culture', 'music', 'food', 'fashion', 'food', 'fashion', 'fashion', 'fashion', 'food', 'fitness', 'fitness', 'food', 'food', 'travel', 'fitness', 'music', 'fashion', 'culture', 'travel', 'culture', 'culture', 'music', 'travel', 'travel', 'food', 'fitness', 'fitness', 'culture', 'travel', 'culture', 'culture', 'food', 'music', 'music', 'fashion', 'fashion', 'music', 'fashion', 'culture', 'fashion', 'fitness', 'fitness', 'food', 'travel', 'culture', 'culture', 'music'], 'Likes': array([421, 693, 586, 562, 365, 647, 856,  40, 698, 406, 963, 669,  84,\n",
      "       404,  77, 682, 880, 728, 619, 813, 992, 373, 757,  43, 960, 848,\n",
      "       166, 536, 380, 980, 864, 797, 205, 765, 909, 170, 535, 530, 115,\n",
      "       459, 287, 197, 638, 389, 844, 441,  65, 597, 250, 931, 276, 182,\n",
      "       692, 649, 778, 433, 725, 150, 973, 938, 441, 374,  83, 492, 482,\n",
      "         5, 583, 986, 896, 134, 654,  97, 507, 597, 384, 707, 914, 173,\n",
      "       488, 593, 595,  17,  65, 581, 395, 109, 991, 147, 846, 974, 292,\n",
      "       533,  83, 281,  27, 376,  70, 382, 682, 979, 407, 622, 258, 499,\n",
      "       632, 582, 317,  59, 395, 379, 139, 289, 982, 980, 666, 616, 666,\n",
      "       631, 906, 174, 317, 873, 572, 610, 897, 924, 626, 297,  91, 245,\n",
      "       683, 285, 953, 426, 171, 309, 357, 111, 691, 997,  77, 449, 512,\n",
      "       274,  68, 823, 103, 662, 572, 850, 255, 376, 366, 878, 963, 199,\n",
      "       602, 333, 588, 136, 211, 279, 510, 311, 885, 702, 455, 762, 277,\n",
      "       608, 747, 759, 676, 399, 824, 743, 469, 401, 710, 448, 493, 120,\n",
      "       400,  73, 633, 210, 969, 535, 499, 688, 697, 441,   2, 136, 305,\n",
      "       222, 628, 199, 179, 699, 838, 351, 702, 944, 538, 723, 971, 259,\n",
      "       861, 216, 638,  34, 267, 737, 604, 732, 366, 196,   8, 184, 335,\n",
      "       164, 465, 454, 966, 326, 791, 764, 691, 246, 748, 691, 135, 419,\n",
      "       230, 755, 468, 190, 789, 816, 645, 744, 908, 259, 398, 629, 553,\n",
      "         4, 849, 172, 448, 845, 816, 688, 470, 355, 125, 411, 118, 623,\n",
      "       938, 611, 197, 548, 953,  30, 127, 626, 672, 708, 273,  48, 228,\n",
      "       916, 251, 245, 209, 870, 665,  14, 415, 669, 838, 263, 602, 581,\n",
      "       763, 674, 148, 284, 549, 557, 279, 891, 332, 911, 473, 998, 326,\n",
      "       513, 810, 875, 136, 188, 379, 629, 531,  41, 780,  48, 470, 920,\n",
      "       778, 540, 119, 384, 168, 627, 592,  99, 448, 657, 433, 930, 663,\n",
      "       459, 816, 734, 535, 385, 475, 283, 804, 648, 831, 756, 327, 410,\n",
      "       325,  15, 299,  46, 762, 370, 310, 973, 463, 955, 241, 460, 301,\n",
      "       101, 965, 357, 324, 306, 352, 960, 976, 289,  49, 728, 580, 725,\n",
      "       338, 188, 832, 812, 662, 555, 127, 830, 902,  41, 582, 554, 123,\n",
      "       556,  13, 895, 129, 165, 974, 317, 747, 398, 438, 346, 890, 670,\n",
      "       881, 556, 413, 856, 533, 158, 980, 380,  40,  79, 372, 513, 250,\n",
      "       746,  43, 271, 343, 400, 220, 943, 154, 829, 731, 991, 319, 826,\n",
      "       779, 382, 739, 390, 782, 437,  17, 866, 628, 271,  95, 320, 494,\n",
      "       971, 328, 140,  26, 137,  43, 342, 454, 322, 489,  78, 539, 949,\n",
      "       384, 303, 148, 774, 608, 864, 378, 374, 118, 582,  55, 527, 111,\n",
      "       878, 628, 194, 835, 247, 681, 652, 719, 609, 105, 745, 652, 720,\n",
      "       370, 995, 859, 781,  55, 438, 272, 188,  81, 225, 485, 871, 889,\n",
      "        63, 513, 275, 956, 568, 995, 930, 515, 279, 401,  47, 840, 131,\n",
      "        90, 655, 928, 734, 592, 421])}\n"
     ]
    }
   ],
   "source": [
    "categories = [\"food\",\"fashion\",\"travel\",\"music\",\"fitness\",\"culture\"]\n",
    "n= 500\n",
    "data ={'Date':pd.date_range('2021-01-01',periods = n)}\n",
    "data['Category']=[random.choice(categories) for _ in range(n)]\n",
    "data['Likes']=np.random.randint(0,1000,size=n)\n",
    "print(data)"
   ]
  },
  {
   "cell_type": "code",
   "execution_count": 7,
   "metadata": {},
   "outputs": [
    {
     "name": "stdout",
     "output_type": "stream",
     "text": [
      "First 5 rowa:\n",
      "        Date Category  Likes\n",
      "0 2021-01-01  fitness    475\n",
      "1 2021-01-02    music    851\n",
      "2 2021-01-03     food    616\n",
      "3 2021-01-04  fitness    254\n",
      "4 2021-01-05  fitness    654\n",
      "\n",
      "Dtaframe information:\n",
      "<class 'pandas.core.frame.DataFrame'>\n",
      "RangeIndex: 500 entries, 0 to 499\n",
      "Data columns (total 3 columns):\n",
      " #   Column    Non-Null Count  Dtype         \n",
      "---  ------    --------------  -----         \n",
      " 0   Date      500 non-null    datetime64[ns]\n",
      " 1   Category  500 non-null    object        \n",
      " 2   Likes     500 non-null    int64         \n",
      "dtypes: datetime64[ns](1), int64(1), object(1)\n",
      "memory usage: 11.8+ KB\n",
      "None\n",
      "\n",
      "Dtaframe description:\n",
      "            Likes\n",
      "count  500.000000\n",
      "mean   511.908000\n",
      "std    291.530856\n",
      "min      1.000000\n",
      "25%    256.750000\n",
      "50%    516.500000\n",
      "75%    765.250000\n",
      "max    999.000000\n",
      "\n",
      "Count of each category:\n",
      "culture    91\n",
      "tavel      86\n",
      "fitness    83\n",
      "food       81\n",
      "music      80\n",
      "fashion    79\n",
      "Name: Category, dtype: int64\n"
     ]
    }
   ],
   "source": [
    "categories = ['food','tavel','music','culture','fashion','fitness']\n",
    "n=500\n",
    "data={'Date':pd.date_range('2021-01-01',periods=n)}\n",
    "data['Category']=[random.choice(categories) for _ in range(n)]\n",
    "data['Likes'] = np.random.randint(0, 1000,size=n)\n",
    "df = pd.DataFrame(data)\n",
    "print(\"First 5 rowa:\")\n",
    "print(df.head())\n",
    "print(\"\\nDtaframe information:\")\n",
    "print(df.info())\n",
    "print(\"\\nDtaframe description:\")\n",
    "print(df.describe())\n",
    "print(\"\\nCount of each category:\")\n",
    "print(df['Category'].value_counts())\n",
    "              "
   ]
  },
  {
   "cell_type": "code",
   "execution_count": 8,
   "metadata": {},
   "outputs": [
    {
     "name": "stdout",
     "output_type": "stream",
     "text": [
      "Dataframe information after cleaning:\n",
      "<class 'pandas.core.frame.DataFrame'>\n",
      "Int64Index: 500 entries, 0 to 499\n",
      "Data columns (total 3 columns):\n",
      " #   Column    Non-Null Count  Dtype         \n",
      "---  ------    --------------  -----         \n",
      " 0   Date      500 non-null    datetime64[ns]\n",
      " 1   Category  500 non-null    object        \n",
      " 2   Likes     500 non-null    int64         \n",
      "dtypes: datetime64[ns](1), int64(1), object(1)\n",
      "memory usage: 15.6+ KB\n",
      "None\n"
     ]
    }
   ],
   "source": [
    "categories = ['food','tavel','music','culture','fashion','fitness']\n",
    "n=500\n",
    "data={'Date':pd.date_range('2021-01-01',periods=n)}\n",
    "data['Category']=[random.choice(categories) for _ in range(n)]\n",
    "data['Likes'] = np.random.randint(0, 1000,size=n)\n",
    "df = pd.DataFrame(data)\n",
    "df.dropna(inplace=True)\n",
    "df.drop_duplicates(inplace=True)\n",
    "df['Date']=pd.to_datetime(df['Date'])\n",
    "df['Likes']=df['Likes'].astype(int)\n",
    "print(\"Dataframe information after cleaning:\")\n",
    "print(df.info())"
   ]
  },
  {
   "cell_type": "code",
   "execution_count": 9,
   "metadata": {},
   "outputs": [
    {
     "name": "stdout",
     "output_type": "stream",
     "text": [
      "Requirement already satisfied: seaborn in /opt/conda/lib/python3.7/site-packages (0.10.1)\n",
      "Collecting seaborn\n",
      "  Downloading seaborn-0.12.2-py3-none-any.whl (293 kB)\n",
      "     |████████████████████████████████| 293 kB 37.9 MB/s            \n",
      "\u001b[?25hRequirement already satisfied: matplotlib!=3.6.1,>=3.1 in /opt/conda/lib/python3.7/site-packages (from seaborn) (3.2.1)\n",
      "Requirement already satisfied: pandas>=0.25 in /opt/conda/lib/python3.7/site-packages (from seaborn) (1.0.3)\n",
      "Requirement already satisfied: numpy!=1.24.0,>=1.17 in /opt/conda/lib/python3.7/site-packages (from seaborn) (1.18.4)\n",
      "Requirement already satisfied: typing_extensions in /opt/conda/lib/python3.7/site-packages (from seaborn) (3.7.4.2)\n",
      "Requirement already satisfied: cycler>=0.10 in /opt/conda/lib/python3.7/site-packages (from matplotlib!=3.6.1,>=3.1->seaborn) (0.10.0)\n",
      "Requirement already satisfied: pyparsing!=2.0.4,!=2.1.2,!=2.1.6,>=2.0.1 in /opt/conda/lib/python3.7/site-packages (from matplotlib!=3.6.1,>=3.1->seaborn) (2.4.7)\n",
      "Requirement already satisfied: python-dateutil>=2.1 in /opt/conda/lib/python3.7/site-packages (from matplotlib!=3.6.1,>=3.1->seaborn) (2.8.1)\n",
      "Requirement already satisfied: kiwisolver>=1.0.1 in /opt/conda/lib/python3.7/site-packages (from matplotlib!=3.6.1,>=3.1->seaborn) (1.2.0)\n",
      "Requirement already satisfied: pytz>=2017.2 in /opt/conda/lib/python3.7/site-packages (from pandas>=0.25->seaborn) (2020.1)\n",
      "Requirement already satisfied: six in /opt/conda/lib/python3.7/site-packages (from cycler>=0.10->matplotlib!=3.6.1,>=3.1->seaborn) (1.14.0)\n",
      "Installing collected packages: seaborn\n",
      "  Attempting uninstall: seaborn\n",
      "    Found existing installation: seaborn 0.10.1\n",
      "    Uninstalling seaborn-0.10.1:\n",
      "      Successfully uninstalled seaborn-0.10.1\n",
      "Successfully installed seaborn-0.12.2\n",
      "\u001b[33mWARNING: You are using pip version 21.3.1; however, version 24.0 is available.\n",
      "You should consider upgrading via the '/opt/conda/bin/python -m pip install --upgrade pip' command.\u001b[0m\n",
      "Note: you may need to restart the kernel to use updated packages.\n"
     ]
    }
   ],
   "source": [
    "pip install --upgrade seaborn"
   ]
  },
  {
   "cell_type": "code",
   "execution_count": 10,
   "metadata": {},
   "outputs": [
    {
     "data": {
      "image/png": "[encoded data removed]",
      "text/plain": [
       "<Figure size 432x288 with 1 Axes>"
      ]
     },
     "metadata": {
      "needs_background": "light"
     },
     "output_type": "display_data"
    },
    {
     "data": {
      "image/png": "[encoded data removed]",
      "text/plain": [
       "<Figure size 432x288 with 1 Axes>"
      ]
     },
     "metadata": {
      "needs_background": "light"
     },
     "output_type": "display_data"
    },
    {
     "name": "stdout",
     "output_type": "stream",
     "text": [
      "Mean number of likes: 499.272\n",
      "\n",
      "Means likes by category\n",
      "Category\n",
      "culture    456.417582\n",
      "fashion    475.379310\n",
      "fitness    527.115385\n",
      "food       494.317647\n",
      "music      517.150538\n",
      "travel     538.136364\n",
      "Name: Likes, dtype: float64\n"
     ]
    }
   ],
   "source": [
    "import pandas as pd\n",
    "import random\n",
    "import numpy as np\n",
    "import seaborn as sns\n",
    "import matplotlib.pyplot as plt\n",
    "\n",
    "categories = ['food','travel','music','culture','fashion','fitness']\n",
    "n=500\n",
    "data={'Date':pd.date_range('2021-01-01',periods=n)}\n",
    "data['Category']=[random.choice(categories) for _ in range(n)]\n",
    "data['Likes'] = np.random.randint(0, 1000,size=n)\n",
    "df = pd.DataFrame(data)\n",
    "\n",
    "sns.distplot(df['Likes'])\n",
    "plt.xlabel('Number of likes')\n",
    "plt.ylabel('Frequency')\n",
    "plt.title('Likes')\n",
    "plt.show()\n",
    "\n",
    "df['Category'] = df['Category'].astype('category')\n",
    "\n",
    "sns.boxplot(\n",
    "    x='Category',  \n",
    "    y='Likes',\n",
    "    showmeans=True,\n",
    "    data=df\n",
    ")\n",
    "plt.xlabel('Category')\n",
    "plt.ylabel('Number of likes')\n",
    "plt.show()\n",
    "\n",
    "mean_likes=df['Likes'].mean()\n",
    "print(\"Mean number of likes:\",mean_likes)\n",
    "\n",
    "mean_likes_by_category=df.groupby('Category')['Likes'].mean()\n",
    "print(\"\\nMeans likes by category\")\n",
    "print(mean_likes_by_category)"
   ]
  },
  {
   "cell_type": "code",
   "execution_count": null,
   "metadata": {},
   "outputs": [],
   "source": []
  }
 ],
 "metadata": {
  "kernelspec": {
   "display_name": "Python 3",
   "language": "python",
   "name": "python3"
  },
  "language_info": {
   "codemirror_mode": {
    "name": "ipython",
    "version": 3
   },
   "file_extension": ".py",
   "mimetype": "text/x-python",
   "name": "python",
   "nbconvert_exporter": "python",
   "pygments_lexer": "ipython3",
   "version": "3.7.6"
  }
 },
 "nbformat": 4,
 "nbformat_minor": 4
}
